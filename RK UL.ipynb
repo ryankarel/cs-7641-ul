{
 "cells": [
  {
   "cell_type": "code",
   "execution_count": 20,
   "id": "83269ea0",
   "metadata": {},
   "outputs": [],
   "source": [
    "import pandas as pd\n",
    "from sklearn.model_selection import train_test_split\n",
    "\n",
    "from sklearn.cluster import KMeans\n",
    "from sklearn.mixture import GaussianMixture\n",
    "from sklearn.metrics import silhouette_score\n",
    "from sklearn.metrics import calinski_harabasz_score\n",
    "from sklearn.metrics import davies_bouldin_score\n",
    "\n",
    "random_state = 23523\n",
    "scoring = 'roc_auc_ovo'"
   ]
  },
  {
   "cell_type": "code",
   "execution_count": 8,
   "id": "5174429a",
   "metadata": {},
   "outputs": [],
   "source": [
    "# --- load\n",
    "\n",
    "X_bus = pd.read_pickle('data/business-classification/X.pkl')\n",
    "Y_bus = pd.read_pickle('data/business-classification/Y.pkl')\n",
    "\n",
    "X_wine = pd.read_pickle('data/wine/X.pkl')\n",
    "Y_wine = pd.read_pickle('data/wine/Y.pkl')\n",
    "\n",
    "# --- split\n",
    "\n",
    "X_bus_train, X_bus_test, Y_bus_train, Y_bus_test = train_test_split(\n",
    "    X_bus.values, Y_bus.values,\n",
    "    test_size=0.3,\n",
    "    random_state=random_state\n",
    ")\n",
    "\n",
    "X_wine_train, X_wine_test, Y_wine_train, Y_wine_test = train_test_split(\n",
    "    X_wine, Y_wine,\n",
    "    test_size=0.3,\n",
    "    random_state=random_state\n",
    ")\n",
    "\n",
    "training_datasets = {\n",
    "    'BusClass': (X_bus_train, Y_bus_train),\n",
    "    'Wine': (X_wine_train, Y_wine_train)\n",
    "}\n",
    "\n",
    "holdout_datasets = {\n",
    "    'BusClass': (X_bus_test, Y_bus_test),\n",
    "    'Wine': (X_wine_test, Y_wine_test)\n",
    "}"
   ]
  },
  {
   "cell_type": "markdown",
   "id": "cc33dc5a",
   "metadata": {},
   "source": [
    "# Step 1."
   ]
  },
  {
   "cell_type": "code",
   "execution_count": null,
   "id": "d8a9fd28",
   "metadata": {},
   "outputs": [],
   "source": [
    "# create diagnostics for clustering\n"
   ]
  },
  {
   "cell_type": "code",
   "execution_count": 19,
   "id": "d7ca9e9c",
   "metadata": {},
   "outputs": [
    {
     "name": "stdout",
     "output_type": "stream",
     "text": [
      "Score for k=2 on BusClass: SS=0.33 CH=2037.27\n",
      "Score for k=2 on Wine: SS=0.33 CH=7615.76\n",
      "Score for k=4 on BusClass: SS=0.33 CH=1028.81\n",
      "Score for k=4 on Wine: SS=0.33 CH=9860.93\n",
      "Score for k=6 on BusClass: SS=0.33 CH=728.24\n",
      "Score for k=6 on Wine: SS=0.33 CH=9228.25\n",
      "Score for k=12 on BusClass: SS=0.33 CH=429.72\n",
      "Score for k=12 on Wine: SS=0.33 CH=7672.78\n"
     ]
    }
   ],
   "source": [
    "# KMeans\n",
    "for k in [2, 3, 4, 6, 12]:\n",
    "    for dataset_name in training_datasets:\n",
    "        X, _ = training_datasets[dataset_name]\n",
    "        clustering_model = KMeans(\n",
    "            n_clusters=k,\n",
    "            random_state=random_state\n",
    "        )\n",
    "        clustering_model.fit(X)\n",
    "        labels = clustering_model.labels_\n",
    "        sil_score = silhouette_score(X, labels)\n",
    "        ch_score = calinski_harabasz_score(X, labels)\n",
    "        print(f'Score for k={k} on {dataset_name}: SS={sil_score:.2f} CH={ch_score:.2f}')\n",
    "        "
   ]
  }
 ],
 "metadata": {
  "kernelspec": {
   "display_name": "Python 3 (ipykernel)",
   "language": "python",
   "name": "python3"
  },
  "language_info": {
   "codemirror_mode": {
    "name": "ipython",
    "version": 3
   },
   "file_extension": ".py",
   "mimetype": "text/x-python",
   "name": "python",
   "nbconvert_exporter": "python",
   "pygments_lexer": "ipython3",
   "version": "3.8.13"
  }
 },
 "nbformat": 4,
 "nbformat_minor": 5
}
