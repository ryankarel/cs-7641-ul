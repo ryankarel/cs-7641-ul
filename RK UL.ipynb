{
 "cells": [
  {
   "cell_type": "code",
   "execution_count": 10,
   "id": "5cff06f2",
   "metadata": {},
   "outputs": [],
   "source": [
    "import pandas as pd\n",
    "from sklearn.model_selection import train_test_split\n",
    "\n",
    "from sklearn.cluster import KMeans\n",
    "from sklearn.mixture import GaussianMixture\n",
    "\n",
    "random_state = 23523\n",
    "scoring = 'roc_auc_ovo'"
   ]
  },
  {
   "cell_type": "code",
   "execution_count": 8,
   "id": "30ef745b",
   "metadata": {},
   "outputs": [],
   "source": [
    "# --- load\n",
    "\n",
    "X_bus = pd.read_pickle('data/business-classification/X.pkl')\n",
    "Y_bus = pd.read_pickle('data/business-classification/Y.pkl')\n",
    "\n",
    "X_wine = pd.read_pickle('data/wine/X.pkl')\n",
    "Y_wine = pd.read_pickle('data/wine/Y.pkl')\n",
    "\n",
    "# --- split\n",
    "\n",
    "X_bus_train, X_bus_test, Y_bus_train, Y_bus_test = train_test_split(\n",
    "    X_bus.values, Y_bus.values,\n",
    "    test_size=0.3,\n",
    "    random_state=random_state\n",
    ")\n",
    "\n",
    "X_wine_train, X_wine_test, Y_wine_train, Y_wine_test = train_test_split(\n",
    "    X_wine, Y_wine,\n",
    "    test_size=0.3,\n",
    "    random_state=random_state\n",
    ")\n",
    "\n",
    "training_datasets = {\n",
    "    'BusClass': (X_bus_train, Y_bus_train),\n",
    "    'Wine': (X_wine_train, Y_wine_train)\n",
    "}\n",
    "\n",
    "holdout_datasets = {\n",
    "    'BusClass': (X_bus_test, Y_bus_test),\n",
    "    'Wine': (X_wine_test, Y_wine_test)\n",
    "}"
   ]
  },
  {
   "cell_type": "markdown",
   "id": "b07b5af4",
   "metadata": {},
   "source": [
    "# Step 1."
   ]
  },
  {
   "cell_type": "code",
   "execution_count": null,
   "id": "dd624366",
   "metadata": {},
   "outputs": [],
   "source": []
  }
 ],
 "metadata": {
  "kernelspec": {
   "display_name": "Python 3 (ipykernel)",
   "language": "python",
   "name": "python3"
  },
  "language_info": {
   "codemirror_mode": {
    "name": "ipython",
    "version": 3
   },
   "file_extension": ".py",
   "mimetype": "text/x-python",
   "name": "python",
   "nbconvert_exporter": "python",
   "pygments_lexer": "ipython3",
   "version": "3.8.13"
  }
 },
 "nbformat": 4,
 "nbformat_minor": 5
}
